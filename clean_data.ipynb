{
 "cells": [
  {
   "cell_type": "markdown",
   "metadata": {
    "ein.tags": "worksheet-0",
    "slideshow": {
     "slide_type": "-"
    }
   },
   "source": [
    "# Loading All Data\n",
    "\n",
    "GOAL: Load data.  Join data.  check data coverage.  Trim down file size.  Preliminary plots\n",
    "\n",
    "This looks at the StormEvent data.  The data starts in 1950, and runs till today.  As discussed on the webpage(https://www.ncdc.noaa.gov/stormevents/details.jsp), the amount of information tracked has changed over time.  In the 50s only tornados were tracked, and was expanded to thunderstorms and hail in the 60s.  The full panoply of events only started being collected in 1996.  So around 20 years of \"full\" coverage.  \n",
    "\n",
    "The data was downloaded from the command line using:  \n",
    "\"wget ftp://ftp.ncdc.noaa.gov/pub/data/swdi/stormevents/csvfiles/StormEvents_details-ftp_v1.0_*.csv.gz\"\n",
    "\n",
    "(Command-line wget plays nice with wildcards, but python's version does not).\n",
    "\n",
    "The main files for each year are details, locations, and fatalities.\n",
    "Details contains the broadest summary, and covers the longest period of time (and the one I think we should focus on.) \n",
    "Locations seems to contain more detailed location information than is already in details.\n",
    "Fatalities includes statistics on each person who died (age, sex, location) for each event.  \n",
    "The total fatalities are already included in details.  (Perhaps a bit too morbid to focus on that)\n",
    "\n",
    "The description of the columns for each file is is included in Storm-Data-Export-Format.docx, which details each field, and possible entry types.  Note: I will be changing DAMAGE_CROPS and DAMAGE_PROPERTY to return numerical values.  So 1.2K becomes 1200.  \n",
    "\n",
    "## Approach\n",
    "\n",
    "This file is going to make a dict of dataframes - one for each file type. Each year is appended to the relevant dataframe.  I'll check how much missing data there is, and make some preliminary sanity-check type plots.  \n",
    "I'l also output a number of compressed CSV files.  One full one (which is around 230 MB), and attempts at throwing away redundant/useless columns to reduce the size to something manageable.  "
   ]
  },
  {
   "cell_type": "code",
   "execution_count": 42,
   "metadata": {},
   "outputs": [
    {
     "name": "stdout",
     "output_type": "stream",
     "text": [
      "\u001b[0m\u001b[01;31mdata/StormEvents_details-ftp_v1.0_d1990_c20170717.csv.gz\u001b[0m\r\n",
      "\u001b[01;31mdata/StormEvents_fatalities-ftp_v1.0_d1990_c20170717.csv.gz\u001b[0m\r\n",
      "\u001b[01;31mdata/StormEvents_locations-ftp_v1.0_d1990_c20170717.csv.gz\u001b[0m\r\n"
     ]
    }
   ],
   "source": [
    "ls data/*1990*"
   ]
  },
  {
   "cell_type": "code",
   "execution_count": 1,
   "metadata": {
    "autoscroll": false,
    "collapsed": true,
    "ein.tags": "worksheet-0",
    "slideshow": {
     "slide_type": "-"
    }
   },
   "outputs": [],
   "source": [
    "import pandas as pd\n",
    "import numpy as np\n",
    "import matplotlib.pyplot as plt\n",
    "import re\n",
    "import os\n",
    "\n",
    "%load_ext autoreload\n",
    "%autoreload 2\n",
    "\n",
    "pd.set_option('display.max_columns',None)"
   ]
  },
  {
   "cell_type": "code",
   "execution_count": 2,
   "metadata": {
    "autoscroll": false,
    "collapsed": true,
    "ein.tags": "worksheet-0",
    "slideshow": {
     "slide_type": "-"
    }
   },
   "outputs": [],
   "source": [
    "#grab list of all files.\n",
    "file_list=os.listdir('data')\n",
    "\n",
    "file_df=pd.DataFrame(file_list,columns=['file_name'])"
   ]
  },
  {
   "cell_type": "code",
   "execution_count": 3,
   "metadata": {
    "autoscroll": false,
    "collapsed": true,
    "ein.tags": "worksheet-0",
    "slideshow": {
     "slide_type": "-"
    }
   },
   "outputs": [],
   "source": [
    "#only keep the StormEvent files, since also have some READMEs\n",
    "file_msk=file_df['file_name'].str.contains('StormEvents')\n",
    "file_df=file_df.loc[file_msk]\n",
    "\n",
    "#search file names for field like \"d2008\", extract that value, and return as numpy array.\n",
    "#creates new column\n",
    "file_df['year']=file_df['file_name'].str.extract('d([0-9]+)_',expand=True).values.astype(int)\n",
    "file_df['type']=file_df['file_name'].str.extract('StormEvents_(\\w+)\\-',expand=True).values\n"
   ]
  },
  {
   "cell_type": "code",
   "execution_count": 5,
   "metadata": {
    "autoscroll": false,
    "collapsed": true,
    "ein.tags": "worksheet-0",
    "slideshow": {
     "slide_type": "-"
    }
   },
   "outputs": [],
   "source": [
    "def get_all_years(file_df):\n",
    "    \"\"\"get_all_years(file_df)\n",
    "    Calls get_one_year for all years in the dataframe file_df\n",
    "    Outputs: df_dict - a dict of dataframes.\n",
    "    \"\"\"\n",
    "    name_list=['details','fatalities','locations']\n",
    "    df_dict={}\n",
    "    #initialize empty dataframes\n",
    "    for name in name_list:\n",
    "        df_dict[name]=pd.DataFrame()\n",
    "\n",
    "    year_arr=file_df['year'].values\n",
    "    #now loop through extracting each\n",
    "    year_min=year_arr.min()\n",
    "    year_max=year_arr.max()\n",
    "    for year in range(year_min,year_max+1):\n",
    "        new_dict=get_one_year(file_df,year)\n",
    "        for name in name_list:\n",
    "            df_dict[name]=df_dict[name].append(new_dict[name])\n",
    "    return df_dict\n",
    "        \n",
    "def get_one_year(file_df,year=2005):\n",
    "    \"\"\"get_one_year\n",
    "    Read in all files for a single year. \n",
    "    Input: file_df - dataframe with filenames, years and type of series\n",
    "    \n",
    "    Output: dict of dataframes loaded from csv\n",
    "    \"\"\"\n",
    "    name_list=['details','fatalities','locations']\n",
    "    df_dict={}\n",
    "    year_str=str(year)\n",
    "    #initialize empty dataframes\n",
    "    for name in name_list:\n",
    "        df_dict[name]=pd.DataFrame()\n",
    "\n",
    "    for name in name_list:\n",
    "        msk1=file_df['year']==year\n",
    "        msk2=file_df['type']==name\n",
    "        print(year,name)\n",
    "        if (sum(msk1&msk2)>0):\n",
    "            file_name='data/'+file_df.loc[msk1&msk2]['file_name'].values[0]\n",
    "            print(file_name)\n",
    "            df=pd.read_csv(file_name)\n",
    "            df_dict[name]=df\n",
    "    return df_dict\n",
    "    "
   ]
  },
  {
   "cell_type": "code",
   "execution_count": 45,
   "metadata": {
    "autoscroll": false,
    "ein.tags": "worksheet-0",
    "slideshow": {
     "slide_type": "-"
    }
   },
   "outputs": [
    {
     "name": "stdout",
     "output_type": "stream",
     "text": [
      "Automatic pdb calling has been turned OFF\n"
     ]
    }
   ],
   "source": [
    "%pdb off"
   ]
  },
  {
   "cell_type": "code",
   "execution_count": 123,
   "metadata": {
    "autoscroll": false,
    "collapsed": true,
    "ein.tags": "worksheet-0",
    "slideshow": {
     "slide_type": "-"
    }
   },
   "outputs": [],
   "source": [
    "?pd.read_csv"
   ]
  },
  {
   "cell_type": "code",
   "execution_count": 6,
   "metadata": {
    "autoscroll": false,
    "ein.tags": "worksheet-0",
    "scrolled": true,
    "slideshow": {
     "slide_type": "-"
    }
   },
   "outputs": [
    {
     "name": "stdout",
     "output_type": "stream",
     "text": [
      "1950 details\n",
      "data/StormEvents_details-ftp_v1.0_d1950_c20170120.csv.gz\n",
      "1950 fatalities\n",
      "data/StormEvents_fatalities-ftp_v1.0_d1950_c20170120.csv.gz\n",
      "1950 locations\n",
      "data/StormEvents_locations-ftp_v1.0_d1950_c20170120.csv.gz\n",
      "1951 details\n",
      "data/StormEvents_details-ftp_v1.0_d1951_c20160223.csv.gz\n",
      "1951 fatalities\n",
      "data/StormEvents_fatalities-ftp_v1.0_d1951_c20160223.csv.gz\n",
      "1951 locations\n",
      "data/StormEvents_locations-ftp_v1.0_d1951_c20160223.csv.gz\n",
      "1952 details\n",
      "data/StormEvents_details-ftp_v1.0_d1952_c20170619.csv.gz\n",
      "1952 fatalities\n",
      "data/StormEvents_fatalities-ftp_v1.0_d1952_c20170619.csv.gz\n",
      "1952 locations\n",
      "data/StormEvents_locations-ftp_v1.0_d1952_c20170619.csv.gz\n",
      "1953 details\n",
      "data/StormEvents_details-ftp_v1.0_d1953_c20160223.csv.gz\n",
      "1953 fatalities\n",
      "data/StormEvents_fatalities-ftp_v1.0_d1953_c20160223.csv.gz\n",
      "1953 locations\n",
      "data/StormEvents_locations-ftp_v1.0_d1953_c20160223.csv.gz\n",
      "1954 details\n",
      "data/StormEvents_details-ftp_v1.0_d1954_c20160223.csv.gz\n",
      "1954 fatalities\n",
      "data/StormEvents_fatalities-ftp_v1.0_d1954_c20160223.csv.gz\n",
      "1954 locations\n",
      "data/StormEvents_locations-ftp_v1.0_d1954_c20160223.csv.gz\n",
      "1955 details\n",
      "data/StormEvents_details-ftp_v1.0_d1955_c20160223.csv.gz\n",
      "1955 fatalities\n",
      "data/StormEvents_fatalities-ftp_v1.0_d1955_c20160223.csv.gz\n",
      "1955 locations\n",
      "data/StormEvents_locations-ftp_v1.0_d1955_c20160223.csv.gz\n",
      "1956 details\n",
      "data/StormEvents_details-ftp_v1.0_d1956_c20170717.csv.gz\n",
      "1956 fatalities\n",
      "data/StormEvents_fatalities-ftp_v1.0_d1956_c20170717.csv.gz\n",
      "1956 locations\n",
      "data/StormEvents_locations-ftp_v1.0_d1956_c20170717.csv.gz\n",
      "1957 details\n",
      "data/StormEvents_details-ftp_v1.0_d1957_c20160223.csv.gz\n",
      "1957 fatalities\n",
      "data/StormEvents_fatalities-ftp_v1.0_d1957_c20160223.csv.gz\n",
      "1957 locations\n",
      "data/StormEvents_locations-ftp_v1.0_d1957_c20160223.csv.gz\n",
      "1958 details\n",
      "data/StormEvents_details-ftp_v1.0_d1958_c20160223.csv.gz\n",
      "1958 fatalities\n",
      "data/StormEvents_fatalities-ftp_v1.0_d1958_c20160223.csv.gz\n",
      "1958 locations\n",
      "data/StormEvents_locations-ftp_v1.0_d1958_c20160223.csv.gz\n",
      "1959 details\n",
      "data/StormEvents_details-ftp_v1.0_d1959_c20160223.csv.gz\n",
      "1959 fatalities\n",
      "data/StormEvents_fatalities-ftp_v1.0_d1959_c20160223.csv.gz\n",
      "1959 locations\n",
      "data/StormEvents_locations-ftp_v1.0_d1959_c20160223.csv.gz\n",
      "1960 details\n",
      "data/StormEvents_details-ftp_v1.0_d1960_c20160223.csv.gz\n",
      "1960 fatalities\n",
      "data/StormEvents_fatalities-ftp_v1.0_d1960_c20160223.csv.gz\n",
      "1960 locations\n",
      "data/StormEvents_locations-ftp_v1.0_d1960_c20160223.csv.gz\n",
      "1961 details\n",
      "data/StormEvents_details-ftp_v1.0_d1961_c20160223.csv.gz\n",
      "1961 fatalities\n",
      "data/StormEvents_fatalities-ftp_v1.0_d1961_c20160223.csv.gz\n",
      "1961 locations\n",
      "data/StormEvents_locations-ftp_v1.0_d1961_c20160223.csv.gz\n",
      "1962 details\n",
      "data/StormEvents_details-ftp_v1.0_d1962_c20160223.csv.gz\n",
      "1962 fatalities\n",
      "data/StormEvents_fatalities-ftp_v1.0_d1962_c20160223.csv.gz\n",
      "1962 locations\n",
      "data/StormEvents_locations-ftp_v1.0_d1962_c20160223.csv.gz\n",
      "1963 details\n",
      "data/StormEvents_details-ftp_v1.0_d1963_c20160223.csv.gz\n",
      "1963 fatalities\n",
      "data/StormEvents_fatalities-ftp_v1.0_d1963_c20160223.csv.gz\n",
      "1963 locations\n",
      "data/StormEvents_locations-ftp_v1.0_d1963_c20160223.csv.gz\n",
      "1964 details\n",
      "data/StormEvents_details-ftp_v1.0_d1964_c20160223.csv.gz\n",
      "1964 fatalities\n",
      "data/StormEvents_fatalities-ftp_v1.0_d1964_c20160223.csv.gz\n",
      "1964 locations\n",
      "data/StormEvents_locations-ftp_v1.0_d1964_c20160223.csv.gz\n",
      "1965 details\n",
      "data/StormEvents_details-ftp_v1.0_d1965_c20170619.csv.gz\n",
      "1965 fatalities\n",
      "data/StormEvents_fatalities-ftp_v1.0_d1965_c20170619.csv.gz\n",
      "1965 locations\n",
      "data/StormEvents_locations-ftp_v1.0_d1965_c20170619.csv.gz\n",
      "1966 details\n",
      "data/StormEvents_details-ftp_v1.0_d1966_c20160223.csv.gz\n",
      "1966 fatalities\n",
      "data/StormEvents_fatalities-ftp_v1.0_d1966_c20160223.csv.gz\n",
      "1966 locations\n",
      "data/StormEvents_locations-ftp_v1.0_d1966_c20160223.csv.gz\n",
      "1967 details\n",
      "data/StormEvents_details-ftp_v1.0_d1967_c20160223.csv.gz\n",
      "1967 fatalities\n",
      "data/StormEvents_fatalities-ftp_v1.0_d1967_c20160223.csv.gz\n",
      "1967 locations\n",
      "data/StormEvents_locations-ftp_v1.0_d1967_c20160223.csv.gz\n",
      "1968 details\n",
      "data/StormEvents_details-ftp_v1.0_d1968_c20160223.csv.gz\n",
      "1968 fatalities\n",
      "data/StormEvents_fatalities-ftp_v1.0_d1968_c20160223.csv.gz\n",
      "1968 locations\n",
      "data/StormEvents_locations-ftp_v1.0_d1968_c20160223.csv.gz\n",
      "1969 details\n",
      "data/StormEvents_details-ftp_v1.0_d1969_c20170717.csv.gz\n",
      "1969 fatalities\n",
      "data/StormEvents_fatalities-ftp_v1.0_d1969_c20170717.csv.gz\n",
      "1969 locations\n",
      "data/StormEvents_locations-ftp_v1.0_d1969_c20170717.csv.gz\n",
      "1970 details\n",
      "data/StormEvents_details-ftp_v1.0_d1970_c20160223.csv.gz\n",
      "1970 fatalities\n",
      "data/StormEvents_fatalities-ftp_v1.0_d1970_c20160223.csv.gz\n",
      "1970 locations\n",
      "data/StormEvents_locations-ftp_v1.0_d1970_c20160223.csv.gz\n",
      "1971 details\n",
      "data/StormEvents_details-ftp_v1.0_d1971_c20160223.csv.gz\n",
      "1971 fatalities\n",
      "data/StormEvents_fatalities-ftp_v1.0_d1971_c20160223.csv.gz\n",
      "1971 locations\n",
      "data/StormEvents_locations-ftp_v1.0_d1971_c20160223.csv.gz\n",
      "1972 details\n",
      "data/StormEvents_details-ftp_v1.0_d1972_c20170717.csv.gz\n",
      "1972 fatalities\n",
      "data/StormEvents_fatalities-ftp_v1.0_d1972_c20170717.csv.gz\n",
      "1972 locations\n",
      "data/StormEvents_locations-ftp_v1.0_d1972_c20170717.csv.gz\n",
      "1973 details\n",
      "data/StormEvents_details-ftp_v1.0_d1973_c20160223.csv.gz\n",
      "1973 fatalities\n",
      "data/StormEvents_fatalities-ftp_v1.0_d1973_c20160223.csv.gz\n",
      "1973 locations\n",
      "data/StormEvents_locations-ftp_v1.0_d1973_c20160223.csv.gz\n",
      "1974 details\n",
      "data/StormEvents_details-ftp_v1.0_d1974_c20160223.csv.gz\n",
      "1974 fatalities\n",
      "data/StormEvents_fatalities-ftp_v1.0_d1974_c20160223.csv.gz\n",
      "1974 locations\n",
      "data/StormEvents_locations-ftp_v1.0_d1974_c20160223.csv.gz\n",
      "1975 details\n",
      "data/StormEvents_details-ftp_v1.0_d1975_c20160223.csv.gz\n",
      "1975 fatalities\n",
      "data/StormEvents_fatalities-ftp_v1.0_d1975_c20160223.csv.gz\n",
      "1975 locations\n",
      "data/StormEvents_locations-ftp_v1.0_d1975_c20160223.csv.gz\n",
      "1976 details\n",
      "data/StormEvents_details-ftp_v1.0_d1976_c20160223.csv.gz\n",
      "1976 fatalities\n",
      "data/StormEvents_fatalities-ftp_v1.0_d1976_c20160223.csv.gz\n",
      "1976 locations\n",
      "data/StormEvents_locations-ftp_v1.0_d1976_c20160223.csv.gz\n",
      "1977 details\n",
      "data/StormEvents_details-ftp_v1.0_d1977_c20160223.csv.gz\n",
      "1977 fatalities\n",
      "data/StormEvents_fatalities-ftp_v1.0_d1977_c20160223.csv.gz\n",
      "1977 locations\n",
      "data/StormEvents_locations-ftp_v1.0_d1977_c20160223.csv.gz\n",
      "1978 details\n",
      "data/StormEvents_details-ftp_v1.0_d1978_c20160223.csv.gz\n",
      "1978 fatalities\n",
      "data/StormEvents_fatalities-ftp_v1.0_d1978_c20160223.csv.gz\n",
      "1978 locations\n",
      "data/StormEvents_locations-ftp_v1.0_d1978_c20160223.csv.gz\n",
      "1979 details\n",
      "data/StormEvents_details-ftp_v1.0_d1979_c20160223.csv.gz\n",
      "1979 fatalities\n",
      "data/StormEvents_fatalities-ftp_v1.0_d1979_c20160223.csv.gz\n",
      "1979 locations\n",
      "data/StormEvents_locations-ftp_v1.0_d1979_c20160223.csv.gz\n",
      "1980 details\n",
      "data/StormEvents_details-ftp_v1.0_d1980_c20170717.csv.gz\n",
      "1980 fatalities\n",
      "data/StormEvents_fatalities-ftp_v1.0_d1980_c20170717.csv.gz\n",
      "1980 locations\n",
      "data/StormEvents_locations-ftp_v1.0_d1980_c20170717.csv.gz\n",
      "1981 details\n",
      "data/StormEvents_details-ftp_v1.0_d1981_c20170717.csv.gz\n",
      "1981 fatalities\n",
      "data/StormEvents_fatalities-ftp_v1.0_d1981_c20170717.csv.gz\n",
      "1981 locations\n",
      "data/StormEvents_locations-ftp_v1.0_d1981_c20170717.csv.gz\n",
      "1982 details\n",
      "data/StormEvents_details-ftp_v1.0_d1982_c20160223.csv.gz\n",
      "1982 fatalities\n",
      "data/StormEvents_fatalities-ftp_v1.0_d1982_c20160223.csv.gz\n",
      "1982 locations\n",
      "data/StormEvents_locations-ftp_v1.0_d1982_c20160223.csv.gz\n",
      "1983 details\n",
      "data/StormEvents_details-ftp_v1.0_d1983_c20160223.csv.gz\n",
      "1983 fatalities\n",
      "data/StormEvents_fatalities-ftp_v1.0_d1983_c20160223.csv.gz\n",
      "1983 locations\n",
      "data/StormEvents_locations-ftp_v1.0_d1983_c20160223.csv.gz\n",
      "1984 details\n",
      "data/StormEvents_details-ftp_v1.0_d1984_c20170717.csv.gz\n",
      "1984 fatalities\n",
      "data/StormEvents_fatalities-ftp_v1.0_d1984_c20170717.csv.gz\n",
      "1984 locations\n",
      "data/StormEvents_locations-ftp_v1.0_d1984_c20170717.csv.gz\n",
      "1985 details\n",
      "data/StormEvents_details-ftp_v1.0_d1985_c20160223.csv.gz\n",
      "1985 fatalities\n",
      "data/StormEvents_fatalities-ftp_v1.0_d1985_c20160223.csv.gz\n",
      "1985 locations\n",
      "data/StormEvents_locations-ftp_v1.0_d1985_c20160223.csv.gz\n",
      "1986 details\n",
      "data/StormEvents_details-ftp_v1.0_d1986_c20160223.csv.gz\n",
      "1986 fatalities\n",
      "data/StormEvents_fatalities-ftp_v1.0_d1986_c20160223.csv.gz\n",
      "1986 locations\n",
      "data/StormEvents_locations-ftp_v1.0_d1986_c20160223.csv.gz\n",
      "1987 details\n",
      "data/StormEvents_details-ftp_v1.0_d1987_c20160223.csv.gz\n",
      "1987 fatalities\n",
      "data/StormEvents_fatalities-ftp_v1.0_d1987_c20160223.csv.gz\n",
      "1987 locations\n",
      "data/StormEvents_locations-ftp_v1.0_d1987_c20160223.csv.gz\n"
     ]
    },
    {
     "name": "stdout",
     "output_type": "stream",
     "text": [
      "1988 details\n",
      "data/StormEvents_details-ftp_v1.0_d1988_c20170717.csv.gz\n",
      "1988 fatalities\n",
      "data/StormEvents_fatalities-ftp_v1.0_d1988_c20170717.csv.gz\n",
      "1988 locations\n",
      "data/StormEvents_locations-ftp_v1.0_d1988_c20170717.csv.gz\n",
      "1989 details\n",
      "data/StormEvents_details-ftp_v1.0_d1989_c20170717.csv.gz\n",
      "1989 fatalities\n",
      "data/StormEvents_fatalities-ftp_v1.0_d1989_c20170717.csv.gz\n",
      "1989 locations\n",
      "data/StormEvents_locations-ftp_v1.0_d1989_c20170717.csv.gz\n",
      "1990 details\n",
      "data/StormEvents_details-ftp_v1.0_d1990_c20170717.csv.gz\n",
      "1990 fatalities\n",
      "data/StormEvents_fatalities-ftp_v1.0_d1990_c20170717.csv.gz\n",
      "1990 locations\n",
      "data/StormEvents_locations-ftp_v1.0_d1990_c20170717.csv.gz\n",
      "1991 details\n",
      "data/StormEvents_details-ftp_v1.0_d1991_c20170717.csv.gz\n",
      "1991 fatalities\n",
      "data/StormEvents_fatalities-ftp_v1.0_d1991_c20170717.csv.gz\n",
      "1991 locations\n",
      "data/StormEvents_locations-ftp_v1.0_d1991_c20170717.csv.gz\n",
      "1992 details\n",
      "data/StormEvents_details-ftp_v1.0_d1992_c20170717.csv.gz\n",
      "1992 fatalities\n",
      "data/StormEvents_fatalities-ftp_v1.0_d1992_c20170717.csv.gz\n",
      "1992 locations\n",
      "data/StormEvents_locations-ftp_v1.0_d1992_c20170717.csv.gz\n",
      "1993 details\n",
      "data/StormEvents_details-ftp_v1.0_d1993_c20170717.csv.gz\n",
      "1993 fatalities\n",
      "data/StormEvents_fatalities-ftp_v1.0_d1993_c20170717.csv.gz\n",
      "1993 locations\n",
      "data/StormEvents_locations-ftp_v1.0_d1993_c20170717.csv.gz\n",
      "1994 details\n",
      "data/StormEvents_details-ftp_v1.0_d1994_c20170717.csv.gz\n",
      "1994 fatalities\n",
      "data/StormEvents_fatalities-ftp_v1.0_d1994_c20170717.csv.gz\n",
      "1994 locations\n",
      "data/StormEvents_locations-ftp_v1.0_d1994_c20170717.csv.gz\n",
      "1995 details\n",
      "data/StormEvents_details-ftp_v1.0_d1995_c20170522.csv.gz\n",
      "1995 fatalities\n",
      "data/StormEvents_fatalities-ftp_v1.0_d1995_c20170522.csv.gz\n",
      "1995 locations\n",
      "data/StormEvents_locations-ftp_v1.0_d1995_c20170522.csv.gz\n",
      "1996 details\n",
      "data/StormEvents_details-ftp_v1.0_d1996_c20170717.csv.gz\n"
     ]
    },
    {
     "name": "stderr",
     "output_type": "stream",
     "text": [
      "/home/jonathan/anaconda3/lib/python3.6/site-packages/IPython/core/interactiveshell.py:2881: DtypeWarning: Columns (26,28) have mixed types. Specify dtype option on import or set low_memory=False.\n",
      "  exec(code_obj, self.user_global_ns, self.user_ns)\n"
     ]
    },
    {
     "name": "stdout",
     "output_type": "stream",
     "text": [
      "1996 fatalities\n",
      "data/StormEvents_fatalities-ftp_v1.0_d1996_c20170717.csv.gz\n",
      "1996 locations\n",
      "data/StormEvents_locations-ftp_v1.0_d1996_c20170717.csv.gz\n",
      "1997 details\n",
      "data/StormEvents_details-ftp_v1.0_d1997_c20170717.csv.gz\n"
     ]
    },
    {
     "name": "stderr",
     "output_type": "stream",
     "text": [
      "/home/jonathan/anaconda3/lib/python3.6/site-packages/IPython/core/interactiveshell.py:2881: DtypeWarning: Columns (28) have mixed types. Specify dtype option on import or set low_memory=False.\n",
      "  exec(code_obj, self.user_global_ns, self.user_ns)\n"
     ]
    },
    {
     "name": "stdout",
     "output_type": "stream",
     "text": [
      "1997 fatalities\n",
      "data/StormEvents_fatalities-ftp_v1.0_d1997_c20170717.csv.gz\n",
      "1997 locations\n",
      "data/StormEvents_locations-ftp_v1.0_d1997_c20170717.csv.gz\n",
      "1998 details\n",
      "data/StormEvents_details-ftp_v1.0_d1998_c20170717.csv.gz\n",
      "1998 fatalities\n",
      "data/StormEvents_fatalities-ftp_v1.0_d1998_c20170717.csv.gz\n",
      "1998 locations\n",
      "data/StormEvents_locations-ftp_v1.0_d1998_c20170717.csv.gz\n",
      "1999 details\n",
      "data/StormEvents_details-ftp_v1.0_d1999_c20170717.csv.gz\n",
      "1999 fatalities\n",
      "data/StormEvents_fatalities-ftp_v1.0_d1999_c20170717.csv.gz\n",
      "1999 locations\n",
      "data/StormEvents_locations-ftp_v1.0_d1999_c20170717.csv.gz\n",
      "2000 details\n",
      "data/StormEvents_details-ftp_v1.0_d2000_c20170717.csv.gz\n",
      "2000 fatalities\n",
      "data/StormEvents_fatalities-ftp_v1.0_d2000_c20170717.csv.gz\n",
      "2000 locations\n",
      "data/StormEvents_locations-ftp_v1.0_d2000_c20170717.csv.gz\n",
      "2001 details\n",
      "data/StormEvents_details-ftp_v1.0_d2001_c20170717.csv.gz\n",
      "2001 fatalities\n",
      "data/StormEvents_fatalities-ftp_v1.0_d2001_c20170717.csv.gz\n",
      "2001 locations\n",
      "data/StormEvents_locations-ftp_v1.0_d2001_c20170717.csv.gz\n",
      "2002 details\n",
      "data/StormEvents_details-ftp_v1.0_d2002_c20170717.csv.gz\n",
      "2002 fatalities\n",
      "data/StormEvents_fatalities-ftp_v1.0_d2002_c20170717.csv.gz\n",
      "2002 locations\n",
      "data/StormEvents_locations-ftp_v1.0_d2002_c20170717.csv.gz\n",
      "2003 details\n",
      "data/StormEvents_details-ftp_v1.0_d2003_c20170717.csv.gz\n",
      "2003 fatalities\n",
      "data/StormEvents_fatalities-ftp_v1.0_d2003_c20170717.csv.gz\n",
      "2003 locations\n",
      "data/StormEvents_locations-ftp_v1.0_d2003_c20170717.csv.gz\n",
      "2004 details\n",
      "data/StormEvents_details-ftp_v1.0_d2004_c20170717.csv.gz\n",
      "2004 fatalities\n",
      "data/StormEvents_fatalities-ftp_v1.0_d2004_c20170717.csv.gz\n",
      "2004 locations\n",
      "data/StormEvents_locations-ftp_v1.0_d2004_c20170717.csv.gz\n",
      "2005 details\n",
      "data/StormEvents_details-ftp_v1.0_d2005_c20170717.csv.gz\n",
      "2005 fatalities\n",
      "data/StormEvents_fatalities-ftp_v1.0_d2005_c20170717.csv.gz\n",
      "2005 locations\n",
      "data/StormEvents_locations-ftp_v1.0_d2005_c20170717.csv.gz\n",
      "2006 details\n",
      "data/StormEvents_details-ftp_v1.0_d2006_c20170717.csv.gz\n"
     ]
    },
    {
     "name": "stderr",
     "output_type": "stream",
     "text": [
      "/home/jonathan/anaconda3/lib/python3.6/site-packages/IPython/core/interactiveshell.py:2881: DtypeWarning: Columns (29,34,35,37) have mixed types. Specify dtype option on import or set low_memory=False.\n",
      "  exec(code_obj, self.user_global_ns, self.user_ns)\n"
     ]
    },
    {
     "name": "stdout",
     "output_type": "stream",
     "text": [
      "2006 fatalities\n",
      "data/StormEvents_fatalities-ftp_v1.0_d2006_c20170717.csv.gz\n",
      "2006 locations\n",
      "data/StormEvents_locations-ftp_v1.0_d2006_c20170717.csv.gz\n",
      "2007 details\n",
      "data/StormEvents_details-ftp_v1.0_d2007_c20170717.csv.gz\n",
      "2007 fatalities\n",
      "data/StormEvents_fatalities-ftp_v1.0_d2007_c20170717.csv.gz\n",
      "2007 locations\n",
      "data/StormEvents_locations-ftp_v1.0_d2007_c20170717.csv.gz\n",
      "2008 details\n",
      "data/StormEvents_details-ftp_v1.0_d2008_c20170718.csv.gz\n",
      "2008 fatalities\n",
      "data/StormEvents_fatalities-ftp_v1.0_d2008_c20170718.csv.gz\n",
      "2008 locations\n",
      "data/StormEvents_locations-ftp_v1.0_d2008_c20170718.csv.gz\n",
      "2009 details\n",
      "data/StormEvents_details-ftp_v1.0_d2009_c20170816.csv.gz\n",
      "2009 fatalities\n",
      "data/StormEvents_fatalities-ftp_v1.0_d2009_c20170816.csv.gz\n",
      "2009 locations\n",
      "data/StormEvents_locations-ftp_v1.0_d2009_c20170816.csv.gz\n",
      "2010 details\n",
      "data/StormEvents_details-ftp_v1.0_d2010_c20170726.csv.gz\n",
      "2010 fatalities\n",
      "data/StormEvents_fatalities-ftp_v1.0_d2010_c20170726.csv.gz\n",
      "2010 locations\n",
      "data/StormEvents_locations-ftp_v1.0_d2010_c20170726.csv.gz\n",
      "2011 details\n",
      "data/StormEvents_details-ftp_v1.0_d2011_c20170519.csv.gz\n",
      "2011 fatalities\n",
      "data/StormEvents_fatalities-ftp_v1.0_d2011_c20170519.csv.gz\n",
      "2011 locations\n",
      "data/StormEvents_locations-ftp_v1.0_d2011_c20170519.csv.gz\n",
      "2012 details\n",
      "data/StormEvents_details-ftp_v1.0_d2012_c20170519.csv.gz\n",
      "2012 fatalities\n",
      "data/StormEvents_fatalities-ftp_v1.0_d2012_c20170519.csv.gz\n",
      "2012 locations\n",
      "data/StormEvents_locations-ftp_v1.0_d2012_c20170519.csv.gz\n",
      "2013 details\n",
      "data/StormEvents_details-ftp_v1.0_d2013_c20170519.csv.gz\n",
      "2013 fatalities\n",
      "data/StormEvents_fatalities-ftp_v1.0_d2013_c20170519.csv.gz\n",
      "2013 locations\n",
      "data/StormEvents_locations-ftp_v1.0_d2013_c20170519.csv.gz\n",
      "2014 details\n",
      "data/StormEvents_details-ftp_v1.0_d2014_c20170718.csv.gz\n",
      "2014 fatalities\n",
      "data/StormEvents_fatalities-ftp_v1.0_d2014_c20170718.csv.gz\n",
      "2014 locations\n",
      "data/StormEvents_locations-ftp_v1.0_d2014_c20170718.csv.gz\n",
      "2015 details\n",
      "data/StormEvents_details-ftp_v1.0_d2015_c20170918.csv.gz\n",
      "2015 fatalities\n",
      "data/StormEvents_fatalities-ftp_v1.0_d2015_c20170918.csv.gz\n",
      "2015 locations\n",
      "data/StormEvents_locations-ftp_v1.0_d2015_c20170918.csv.gz\n",
      "2016 details\n",
      "data/StormEvents_details-ftp_v1.0_d2016_c20180117.csv.gz\n",
      "2016 fatalities\n",
      "data/StormEvents_fatalities-ftp_v1.0_d2016_c20180117.csv.gz\n",
      "2016 locations\n",
      "data/StormEvents_locations-ftp_v1.0_d2016_c20180117.csv.gz\n",
      "2017 details\n",
      "data/StormEvents_details-ftp_v1.0_d2017_c20180316.csv.gz\n",
      "2017 fatalities\n",
      "data/StormEvents_fatalities-ftp_v1.0_d2017_c20180316.csv.gz\n",
      "2017 locations\n",
      "data/StormEvents_locations-ftp_v1.0_d2017_c20180316.csv.gz\n"
     ]
    }
   ],
   "source": [
    "#around 2GB in memory\n",
    "test_dict=get_all_years(file_df)"
   ]
  },
  {
   "cell_type": "code",
   "execution_count": 17,
   "metadata": {},
   "outputs": [
    {
     "name": "stdout",
     "output_type": "stream",
     "text": [
      "details (1471788, 51)\n",
      "   BEGIN_YEARMONTH  BEGIN_DAY  BEGIN_TIME  END_YEARMONTH  END_DAY  END_TIME  \\\n",
      "0           195004         28        1445         195004       28      1445   \n",
      "1           195004         29        1530         195004       29      1530   \n",
      "2           195007          5        1800         195007        5      1800   \n",
      "3           195007          5        1830         195007        5      1830   \n",
      "4           195007         24        1440         195007       24      1440   \n",
      "\n",
      "   EPISODE_ID  EVENT_ID         STATE  STATE_FIPS  YEAR MONTH_NAME EVENT_TYPE  \\\n",
      "0         NaN  10096222      OKLAHOMA        40.0  1950      April    Tornado   \n",
      "1         NaN  10120412         TEXAS        48.0  1950      April    Tornado   \n",
      "2         NaN  10104927  PENNSYLVANIA        42.0  1950       July    Tornado   \n",
      "3         NaN  10104928  PENNSYLVANIA        42.0  1950       July    Tornado   \n",
      "4         NaN  10104929  PENNSYLVANIA        42.0  1950       July    Tornado   \n",
      "\n",
      "  CZ_TYPE  CZ_FIPS   CZ_NAME  WFO     BEGIN_DATE_TIME CZ_TIMEZONE  \\\n",
      "0       C      149   WASHITA  NaN  28-APR-50 14:45:00         CST   \n",
      "1       C       93  COMANCHE  NaN  29-APR-50 15:30:00         CST   \n",
      "2       C       77    LEHIGH  NaN  05-JUL-50 18:00:00         CST   \n",
      "3       C       43   DAUPHIN  NaN  05-JUL-50 18:30:00         CST   \n",
      "4       C       39  CRAWFORD  NaN  24-JUL-50 14:40:00         CST   \n",
      "\n",
      "        END_DATE_TIME  INJURIES_DIRECT  INJURIES_INDIRECT  DEATHS_DIRECT  \\\n",
      "0  28-APR-50 14:45:00                0                  0              0   \n",
      "1  29-APR-50 15:30:00                0                  0              0   \n",
      "2  05-JUL-50 18:00:00                2                  0              0   \n",
      "3  05-JUL-50 18:30:00                0                  0              0   \n",
      "4  24-JUL-50 14:40:00                0                  0              0   \n",
      "\n",
      "   DEATHS_INDIRECT DAMAGE_PROPERTY DAMAGE_CROPS SOURCE  MAGNITUDE  \\\n",
      "0                0            250K            0    NaN        0.0   \n",
      "1                0             25K            0    NaN        0.0   \n",
      "2                0             25K            0    NaN        0.0   \n",
      "3                0            2.5K            0    NaN        0.0   \n",
      "4                0            2.5K            0    NaN        0.0   \n",
      "\n",
      "  MAGNITUDE_TYPE FLOOD_CAUSE  CATEGORY TOR_F_SCALE  TOR_LENGTH  TOR_WIDTH  \\\n",
      "0            NaN         NaN       NaN          F3         3.4      400.0   \n",
      "1            NaN         NaN       NaN          F1        11.5      200.0   \n",
      "2            NaN         NaN       NaN          F2        12.9       33.0   \n",
      "3            NaN         NaN       NaN          F2         0.0       13.0   \n",
      "4            NaN         NaN       NaN          F0         0.0       33.0   \n",
      "\n",
      "  TOR_OTHER_WFO TOR_OTHER_CZ_STATE  TOR_OTHER_CZ_FIPS TOR_OTHER_CZ_NAME  \\\n",
      "0           NaN                NaN                NaN               NaN   \n",
      "1           NaN                NaN                NaN               NaN   \n",
      "2           NaN                NaN                NaN               NaN   \n",
      "3           NaN                NaN                NaN               NaN   \n",
      "4           NaN                NaN                NaN               NaN   \n",
      "\n",
      "   BEGIN_RANGE BEGIN_AZIMUTH BEGIN_LOCATION  END_RANGE END_AZIMUTH  \\\n",
      "0          0.0           NaN            NaN        0.0         NaN   \n",
      "1          0.0           NaN            NaN        0.0         NaN   \n",
      "2          0.0           NaN            NaN        0.0         NaN   \n",
      "3          0.0           NaN            NaN        0.0         NaN   \n",
      "4          0.0           NaN            NaN        0.0         NaN   \n",
      "\n",
      "  END_LOCATION  BEGIN_LAT  BEGIN_LON  END_LAT  END_LON EPISODE_NARRATIVE  \\\n",
      "0          NaN      35.12     -99.20    35.17   -99.20               NaN   \n",
      "1          NaN      31.90     -98.60    31.73   -98.60               NaN   \n",
      "2          NaN      40.58     -75.70    40.65   -75.47               NaN   \n",
      "3          NaN      40.60     -76.75      NaN      NaN               NaN   \n",
      "4          NaN      41.63     -79.68      NaN      NaN               NaN   \n",
      "\n",
      "  EVENT_NARRATIVE DATA_SOURCE  \n",
      "0             NaN         PUB  \n",
      "1             NaN         PUB  \n",
      "2             NaN         PUB  \n",
      "3             NaN         PUB  \n",
      "4             NaN         PUB   \n",
      "\n",
      "fatalities (16560, 11)\n",
      "   FAT_YEARMONTH  FAT_DAY  FAT_TIME  FATALITY_ID  EVENT_ID FATALITY_TYPE  \\\n",
      "0         195001       13       525      1005198   9981922             D   \n",
      "1         195002       12      1200      1005199  10049525             D   \n",
      "2         195002       11      1350      1005200  10120403             D   \n",
      "3         195002       12        30      1005201  10120406             D   \n",
      "4         195002       12      1200      1005202  10120410             D   \n",
      "\n",
      "         FATALITY_DATE  FATALITY_AGE FATALITY_SEX FATALITY_LOCATION  \\\n",
      "0  01/13/1950 05:25:00           NaN          NaN               NaN   \n",
      "1  02/12/1950 12:00:00           NaN          NaN               NaN   \n",
      "2  02/11/1950 13:50:00           NaN          NaN               NaN   \n",
      "3  02/12/1950 00:30:00           NaN          NaN               NaN   \n",
      "4  02/12/1950 12:00:00           NaN          NaN               NaN   \n",
      "\n",
      "   EVENT_YEARMONTH  \n",
      "0           195001  \n",
      "1           195002  \n",
      "2           195002  \n",
      "3           195002  \n",
      "4           195002   \n",
      "\n",
      "locations (1203555, 11)\n",
      "  YEARMONTH EPISODE_ID EVENT_ID LOCATION_INDEX  RANGE AZIMUTH       LOCATION  \\\n",
      "0    199603    2030059  5548852              1    NaN     NaN        LANGLEY   \n",
      "1    199603    2030060  5548853              1    2.0       S      YELLVILLE   \n",
      "2    199603    1002564  5548854              1    NaN     NaN         COTTER   \n",
      "3    199603    2030061  5548855              1    NaN     NaN         COTTER   \n",
      "4    199603    2030062  5548856              1    5.0     WSW  MOUNTAIN HOME   \n",
      "\n",
      "   LATITUDE  LONGITUDE    LAT2    LON2  \n",
      "0     34.32     -93.83  3419.0  9350.0  \n",
      "1     36.20     -92.68  3612.0  9241.0  \n",
      "2     36.27     -92.53  3616.0  9232.0  \n",
      "3     36.27     -92.53  3616.0  9232.0  \n",
      "4     36.30     -92.47  3618.0  9228.0   \n",
      "\n"
     ]
    }
   ],
   "source": [
    "#get shapes for each\n",
    "for key, df in test_dict.items():\n",
    "    print(key, df.shape)\n",
    "    print(df.head(),'\\n')\n"
   ]
  },
  {
   "cell_type": "code",
   "execution_count": 80,
   "metadata": {},
   "outputs": [
    {
     "name": "stderr",
     "output_type": "stream",
     "text": [
      "/home/jonathan/anaconda3/lib/python3.6/site-packages/IPython/core/interactiveshell.py:2717: DtypeWarning: Columns (17,26,27,29,30,35,36,38,40,41,43,44,49,50) have mixed types. Specify dtype option on import or set low_memory=False.\n",
      "  interactivity=interactivity, compiler=compiler, result=result)\n"
     ]
    }
   ],
   "source": [
    "#from earlier dump to csv for same joint details dataframe.\n",
    "try:\n",
    "    df_det=test_dict['details']\n",
    "except:\n",
    "    \"Test_dict['details'] not found.  Loading from file\"\n",
    "    df_det=pd.read_csv('joint_data/details.csv.gz')"
   ]
  },
  {
   "cell_type": "markdown",
   "metadata": {},
   "source": [
    "So around 1.5M rows in details, with initially 50 columns. Data goes back to 1950s.\n",
    "So, lots of redundant columns (particularly for dates).  Lots of missing values.  \n",
    "Location data only starts in 1996.  "
   ]
  },
  {
   "cell_type": "code",
   "execution_count": 48,
   "metadata": {
    "autoscroll": false,
    "ein.tags": "worksheet-0",
    "slideshow": {
     "slide_type": "-"
    }
   },
   "outputs": [
    {
     "name": "stdout",
     "output_type": "stream",
     "text": [
      "details\n",
      "BEGIN_DAY missing: 0.0\n",
      "BEGIN_TIME missing: 0.0\n",
      "EPISODE_ID missing: 0.157793785518\n",
      "EVENT_ID missing: 0.0\n",
      "STATE missing: 6.79445681036e-07\n",
      "STATE_FIPS missing: 6.79445681036e-07\n",
      "YEAR missing: 0.0\n",
      "MONTH_NAME missing: 0.0\n",
      "EVENT_TYPE missing: 0.0\n",
      "CZ_TYPE missing: 0.0\n",
      "CZ_FIPS missing: 0.0\n",
      "CZ_TIMEZONE missing: 0.0\n",
      "INJURIES_DIRECT missing: 0.0\n",
      "INJURIES_INDIRECT missing: 0.0\n",
      "DEATHS_DIRECT missing: 0.0\n",
      "DEATHS_INDIRECT missing: 0.0\n",
      "DAMAGE_PROPERTY missing: 0.337155215289\n",
      "DAMAGE_CROPS missing: 0.413422992985\n",
      "SOURCE missing: 0.234996480471\n",
      "MAGNITUDE missing: 0.408230669091\n",
      "MAGNITUDE_TYPE missing: 0.773457182692\n",
      "FLOOD_CAUSE missing: 0.954456076555\n",
      "TOR_F_SCALE missing: 0.955225888511\n",
      "TOR_LENGTH missing: 0.821615613118\n",
      "TOR_WIDTH missing: 0.821615613118\n",
      "BEGIN_LAT missing: 0.381531851055\n",
      "BEGIN_LON missing: 0.381531851055\n",
      "EPISODE_NARRATIVE missing: 0.32552786135\n",
      "EVENT_NARRATIVE missing: 0.541848418386\n",
      "DATA_SOURCE missing: 0.0\n",
      "fatalities\n",
      "FAT_YEARMONTH missing: 0.0\n",
      "FAT_DAY missing: 0.0\n",
      "FAT_TIME missing: 0.0\n",
      "FATALITY_ID missing: 0.0\n",
      "EVENT_ID missing: 0.0\n",
      "FATALITY_TYPE missing: 0.0\n",
      "FATALITY_DATE missing: 0.0006038647343\n",
      "FATALITY_AGE missing: 0.15634057971\n",
      "FATALITY_SEX missing: 0.112983091787\n",
      "FATALITY_LOCATION missing: 0.0844806763285\n",
      "EVENT_YEARMONTH missing: 0.0\n",
      "locations\n",
      "YEARMONTH missing: 0.0\n",
      "EPISODE_ID missing: 0.0\n",
      "EVENT_ID missing: 0.0\n",
      "LOCATION_INDEX missing: 0.0\n",
      "RANGE missing: 0.355703727707\n",
      "AZIMUTH missing: 0.355703727707\n",
      "LOCATION missing: 0.164461117273\n",
      "LATITUDE missing: 0.217414243637\n",
      "LONGITUDE missing: 0.217414243637\n",
      "LAT2 missing: 0.392509690043\n",
      "LON2 missing: 0.392509690043\n"
     ]
    }
   ],
   "source": [
    "def check_number_missing(df_det):\n",
    "    \"\"\"\n",
    "    check_number_missing \n",
    "\n",
    "    Attempts to run checks on quality/consistency of data.\n",
    "    Check for NaN by checking elementwise for equality.  Then negate to find NAN.\n",
    "    Finds fraction of missing values in a column\n",
    "    \"\"\"\n",
    "    nrow,_=df_det.shape\n",
    "    for col in df_det.columns:\n",
    "        msk=~(df_det[col]==df_det[col])\n",
    "        print(col+' missing:',(np.sum(msk,axis=0)/nrow))\n",
    "\n",
    "for key,df in test_dict.items():\n",
    "    print(key)\n",
    "    check_number_missing(df)\n"
   ]
  },
  {
   "cell_type": "markdown",
   "metadata": {},
   "source": [
    "Will focus mostly on details data.  We need to trim this down a bit.  (Around 250MB compressed).\n",
    "- There's a lot of redundant columns.  Multiple formats for dates, the end/begin fields too.\n",
    "- for dates, keep year, month, day, time fields for beginning.  Ditch the rest (and combo field like datetime)\n",
    "-category is a mystery, even to NWS.  \n",
    "- The tornado data are also seem to mostly be missing - this is for the \"tor_other\" fields where a tornado crosses a boundary between states/field offices.  Could be trimmed.  Could also trim out ending position data.  \n",
    "- Perhaps I've misunderstood the data, and there is some information in the (range, azimuth, location) triple, which  is not in the (lat, lon) tuple.  I think that's mostly for spotting things like tornados.  \n",
    "- Should check that beginning is mostly a superset of end data.  "
   ]
  },
  {
   "cell_type": "code",
   "execution_count": 50,
   "metadata": {},
   "outputs": [
    {
     "name": "stdout",
     "output_type": "stream",
     "text": [
      "YEARMONTH, num_begin:1471788, num_end:1471788\n",
      "begin AND end:1471788, begin XOR end:0\n",
      "begin AND end:0, begin XOR end:0\n",
      "\n",
      "DAY, num_begin:1471788, num_end:1471788\n",
      "begin AND end:1471788, begin XOR end:0\n",
      "begin AND end:0, begin XOR end:0\n",
      "\n",
      "TIME, num_begin:1471788, num_end:1471788\n",
      "begin AND end:1471788, begin XOR end:0\n",
      "begin AND end:0, begin XOR end:0\n",
      "\n",
      "DATE_TIME, num_begin:1471788, num_end:1471788\n",
      "begin AND end:1471788, begin XOR end:0\n",
      "begin AND end:0, begin XOR end:0\n",
      "\n",
      "RANGE, num_begin:793693, num_end:793316\n",
      "begin AND end:790336, begin XOR end:6337\n",
      "begin AND end:3357, begin XOR end:2980\n",
      "\n",
      "AZIMUTH, num_begin:574973, num_end:561892\n",
      "begin AND end:558446, begin XOR end:19973\n",
      "begin AND end:16527, begin XOR end:3446\n",
      "\n",
      "LOCATION, num_begin:825878, num_end:786522\n",
      "begin AND end:786055, begin XOR end:40290\n",
      "begin AND end:39823, begin XOR end:467\n",
      "\n",
      "LAT, num_begin:910254, num_end:732764\n",
      "begin AND end:732764, begin XOR end:177490\n",
      "begin AND end:177490, begin XOR end:0\n",
      "\n",
      "LON, num_begin:910254, num_end:732765\n",
      "begin AND end:732765, begin XOR end:177489\n",
      "begin AND end:177489, begin XOR end:0\n",
      "\n"
     ]
    }
   ],
   "source": [
    "def check_beginning_end_overlap(df):\n",
    "    #grab a list of column names that start with \"BEGIN_\"\n",
    "    begin_end_tags=df.columns.str.extract('BEGIN_([A-z]+)',expand=False)\n",
    "    #only keep the matches\n",
    "    msk=(begin_end_tags==begin_end_tags)\n",
    "    begin_end_tags=begin_end_tags[msk]\n",
    "    for tag in begin_end_tags:\n",
    "        begin_tag = 'BEGIN_'+tag\n",
    "        end_tag = 'END_'+tag\n",
    "        #make logical values for when the values are present\n",
    "        begin=df[begin_tag]==df[begin_tag]\n",
    "        end = df[end_tag]==df[end_tag]\n",
    "        begin_tot = begin.sum()\n",
    "        end_tot = end.sum()\n",
    "\n",
    "        begin_AND_end_tot = (begin & end).sum()\n",
    "        #count number of trues for each type\n",
    "        print(\"{}, num_begin:{}, num_end:{}\" .format(tag,begin_tot,end_tot))\n",
    "        #count number in both, and only in one\n",
    "        print(\"begin AND end:{}, begin XOR end:{}\".format( (begin & end).sum(), (begin ^ end).sum()))\n",
    "        #count number of A and NOT B, and (B and not A) \n",
    "        print(\"begin AND NOT end:{},  end AND NOT : {}\\n\".format( (begin & ~end).sum(),(end & ~begin).sum()))\n",
    "check_beginning_end_overlap(df_det)"
   ]
  },
  {
   "cell_type": "markdown",
   "metadata": {},
   "source": [
    "So dates have full coverage.  Assumption that beginning is a superset of end is not fully justified.  THeres a few cases of an ending value that are not present in the beginning.  In order to get this out, I'm going to IGNORE THAT, and ditch some of those values.  \n",
    "\n",
    "So we'll drop all \"end_\" variables.  We'll also drop the \"tor_other\" variables.  Observing office, Category"
   ]
  },
  {
   "cell_type": "code",
   "execution_count": 51,
   "metadata": {},
   "outputs": [
    {
     "data": {
      "text/plain": [
       "0             WASHITA\n",
       "1            COMANCHE\n",
       "2              LEHIGH\n",
       "3             DAUPHIN\n",
       "4            CRAWFORD\n",
       "5               BUCKS\n",
       "6           LANCASTER\n",
       "7               BERKS\n",
       "8              HUGHES\n",
       "9           PITTSBURG\n",
       "10           CIMARRON\n",
       "11           NUCKOLLS\n",
       "12           OKLAHOMA\n",
       "13          PITTSBURG\n",
       "14            LINCOLN\n",
       "15              TULSA\n",
       "16              KIOWA\n",
       "17              KIOWA\n",
       "18             HUGHES\n",
       "19               COAL\n",
       "20             CUSTER\n",
       "21            BECKHAM\n",
       "22           WOODWARD\n",
       "23              ELLIS\n",
       "24              PAYNE\n",
       "25         KINGFISHER\n",
       "26             RANKIN\n",
       "27             RANKIN\n",
       "28               CLAY\n",
       "29         TISHOMINGO\n",
       "              ...    \n",
       "1471758       GREELEY\n",
       "1471759       FORREST\n",
       "1471760     HUMPHREYS\n",
       "1471761       FORREST\n",
       "1471762        COPIAH\n",
       "1471763       LINCOLN\n",
       "1471764      HERKIMER\n",
       "1471765      HERKIMER\n",
       "1471766      HEMPHILL\n",
       "1471767        CARSON\n",
       "1471768          GRAY\n",
       "1471769     MIDDLESEX\n",
       "1471770        VALLEY\n",
       "1471771      HERKIMER\n",
       "1471772       JACKSON\n",
       "1471773       LINCOLN\n",
       "1471774          PIMA\n",
       "1471775        PENDER\n",
       "1471776        CORSON\n",
       "1471777         BROWN\n",
       "1471778        CORSON\n",
       "1471779       EDMUNDS\n",
       "1471780         BROWN\n",
       "1471781         BROWN\n",
       "1471782          CLAY\n",
       "1471783          LYON\n",
       "1471784       OSCEOLA\n",
       "1471785     SAN DIEGO\n",
       "1471786     SAN DIEGO\n",
       "1471787     SAN DIEGO\n",
       "Name: CZ_NAME, Length: 1471788, dtype: object"
      ]
     },
     "execution_count": 51,
     "metadata": {},
     "output_type": "execute_result"
    }
   ],
   "source": [
    "df_det['CZ_NAME']"
   ]
  },
  {
   "cell_type": "code",
   "execution_count": 127,
   "metadata": {
    "autoscroll": false,
    "collapsed": true,
    "ein.tags": "worksheet-0",
    "slideshow": {
     "slide_type": "-"
    }
   },
   "outputs": [],
   "source": [
    "drop_col=['Unnamed: 0','BEGIN_YEARMONTH','END_YEARMONTH','END_DAY', 'END_TIME','WFO', 'END_DATE_TIME','CATEGORY',\n",
    "'TOR_OTHER_WFO','TOR_OTHER_CZ_STATE','TOR_OTHER_CZ_FIPS','TOR_OTHER_CZ_NAME',\n",
    "'BEGIN_RANGE','BEGIN_AZIMUTH','BEGIN_LOCATION',\n",
    "'END_RANGE','END_AZIMUTH','END_LOCATION',\n",
    "'END_LAT','END_LON']\n",
    "\n",
    "df_det_trim1=df_det.drop(drop_col,axis=1)"
   ]
  },
  {
   "cell_type": "code",
   "execution_count": 128,
   "metadata": {},
   "outputs": [
    {
     "data": {
      "text/plain": [
       "Index(['BEGIN_DAY', 'BEGIN_TIME', 'EPISODE_ID', 'EVENT_ID', 'STATE',\n",
       "       'STATE_FIPS', 'YEAR', 'MONTH_NAME', 'EVENT_TYPE', 'CZ_TYPE', 'CZ_FIPS',\n",
       "       'CZ_NAME', 'BEGIN_DATE_TIME', 'CZ_TIMEZONE', 'INJURIES_DIRECT',\n",
       "       'INJURIES_INDIRECT', 'DEATHS_DIRECT', 'DEATHS_INDIRECT',\n",
       "       'DAMAGE_PROPERTY', 'DAMAGE_CROPS', 'SOURCE', 'MAGNITUDE',\n",
       "       'MAGNITUDE_TYPE', 'FLOOD_CAUSE', 'TOR_F_SCALE', 'TOR_LENGTH',\n",
       "       'TOR_WIDTH', 'BEGIN_LAT', 'BEGIN_LON', 'EPISODE_NARRATIVE',\n",
       "       'EVENT_NARRATIVE', 'DATA_SOURCE'],\n",
       "      dtype='object')"
      ]
     },
     "execution_count": 128,
     "metadata": {},
     "output_type": "execute_result"
    }
   ],
   "source": [
    "df_det_trim1.columns"
   ]
  },
  {
   "cell_type": "markdown",
   "metadata": {},
   "source": [
    "## Converting Damage to numeric\n",
    "\n",
    "The damage numbers come with postscripts like 1.5K, 2.5M.  This finds those subscripts, and converts them to \n",
    "numerical values.  "
   ]
  },
  {
   "cell_type": "code",
   "execution_count": 6,
   "metadata": {
    "autoscroll": false,
    "collapsed": true,
    "ein.tags": "worksheet-0",
    "slideshow": {
     "slide_type": "-"
    }
   },
   "outputs": [],
   "source": [
    "#So the \"damage\" values come with postfixes K,M,B.\n",
    "#Let's grab those with a regex, and find the unique values\n",
    "prop_letter=df_det_trim1['DAMAGE_PROPERTY'].str.extract('([A-z]+)',expand=True)\n",
    "crops_letter=df_det_trim1['DAMAGE_CROPS'].str.extract('([A-z]+)',expand=True)"
   ]
  },
  {
   "cell_type": "code",
   "execution_count": 7,
   "metadata": {
    "autoscroll": false,
    "ein.tags": "worksheet-0",
    "slideshow": {
     "slide_type": "-"
    }
   },
   "outputs": [
    {
     "name": "stdout",
     "output_type": "stream",
     "text": [
      "['K' 'M' nan 'B' 'h' 'H'] [nan 'K' 'M' 'k' 'T' 'B']\n"
     ]
    }
   ],
   "source": [
    "unique_prop_letter=pd.unique(prop_letter[0])\n",
    "unique_crops_letter=pd.unique(crops_letter[0])\n",
    "print(unique_prop_letter,unique_crops_letter)"
   ]
  },
  {
   "cell_type": "code",
   "execution_count": 95,
   "metadata": {
    "autoscroll": false,
    "ein.tags": "worksheet-0",
    "slideshow": {
     "slide_type": "-"
    }
   },
   "outputs": [
    {
     "data": {
      "text/html": [
       "<div>\n",
       "<style>\n",
       "    .dataframe thead tr:only-child th {\n",
       "        text-align: right;\n",
       "    }\n",
       "\n",
       "    .dataframe thead th {\n",
       "        text-align: left;\n",
       "    }\n",
       "\n",
       "    .dataframe tbody tr th {\n",
       "        vertical-align: top;\n",
       "    }\n",
       "</style>\n",
       "<table border=\"1\" class=\"dataframe\">\n",
       "  <thead>\n",
       "    <tr style=\"text-align: right;\">\n",
       "      <th></th>\n",
       "      <th>Unnamed: 0</th>\n",
       "      <th>BEGIN_YEARMONTH</th>\n",
       "      <th>BEGIN_DAY</th>\n",
       "      <th>BEGIN_TIME</th>\n",
       "      <th>END_YEARMONTH</th>\n",
       "      <th>END_DAY</th>\n",
       "      <th>END_TIME</th>\n",
       "      <th>EPISODE_ID</th>\n",
       "      <th>EVENT_ID</th>\n",
       "      <th>STATE</th>\n",
       "      <th>STATE_FIPS</th>\n",
       "      <th>YEAR</th>\n",
       "      <th>MONTH_NAME</th>\n",
       "      <th>EVENT_TYPE</th>\n",
       "      <th>CZ_TYPE</th>\n",
       "      <th>CZ_FIPS</th>\n",
       "      <th>CZ_NAME</th>\n",
       "      <th>WFO</th>\n",
       "      <th>BEGIN_DATE_TIME</th>\n",
       "      <th>CZ_TIMEZONE</th>\n",
       "      <th>END_DATE_TIME</th>\n",
       "      <th>INJURIES_DIRECT</th>\n",
       "      <th>INJURIES_INDIRECT</th>\n",
       "      <th>DEATHS_DIRECT</th>\n",
       "      <th>DEATHS_INDIRECT</th>\n",
       "      <th>DAMAGE_PROPERTY</th>\n",
       "      <th>DAMAGE_CROPS</th>\n",
       "      <th>SOURCE</th>\n",
       "      <th>MAGNITUDE</th>\n",
       "      <th>MAGNITUDE_TYPE</th>\n",
       "      <th>FLOOD_CAUSE</th>\n",
       "      <th>CATEGORY</th>\n",
       "      <th>TOR_F_SCALE</th>\n",
       "      <th>TOR_LENGTH</th>\n",
       "      <th>TOR_WIDTH</th>\n",
       "      <th>TOR_OTHER_WFO</th>\n",
       "      <th>TOR_OTHER_CZ_STATE</th>\n",
       "      <th>TOR_OTHER_CZ_FIPS</th>\n",
       "      <th>TOR_OTHER_CZ_NAME</th>\n",
       "      <th>BEGIN_RANGE</th>\n",
       "      <th>BEGIN_AZIMUTH</th>\n",
       "      <th>BEGIN_LOCATION</th>\n",
       "      <th>END_RANGE</th>\n",
       "      <th>END_AZIMUTH</th>\n",
       "      <th>END_LOCATION</th>\n",
       "      <th>BEGIN_LAT</th>\n",
       "      <th>BEGIN_LON</th>\n",
       "      <th>END_LAT</th>\n",
       "      <th>END_LON</th>\n",
       "      <th>EPISODE_NARRATIVE</th>\n",
       "      <th>EVENT_NARRATIVE</th>\n",
       "      <th>DATA_SOURCE</th>\n",
       "    </tr>\n",
       "  </thead>\n",
       "  <tbody>\n",
       "    <tr>\n",
       "      <th>271898</th>\n",
       "      <td>39659</td>\n",
       "      <td>199610</td>\n",
       "      <td>18</td>\n",
       "      <td>700</td>\n",
       "      <td>199611</td>\n",
       "      <td>10</td>\n",
       "      <td>800</td>\n",
       "      <td>2054631.0</td>\n",
       "      <td>5578493</td>\n",
       "      <td>CALIFORNIA</td>\n",
       "      <td>6.0</td>\n",
       "      <td>1996</td>\n",
       "      <td>October</td>\n",
       "      <td>Wildfire</td>\n",
       "      <td>C</td>\n",
       "      <td>53</td>\n",
       "      <td>MONTEREY</td>\n",
       "      <td>MTR</td>\n",
       "      <td>18-OCT-96 07:00:00</td>\n",
       "      <td>PST</td>\n",
       "      <td>10-NOV-96 08:00:00</td>\n",
       "      <td>0</td>\n",
       "      <td>0</td>\n",
       "      <td>0</td>\n",
       "      <td>0</td>\n",
       "      <td>12.3M</td>\n",
       "      <td>0T</td>\n",
       "      <td>NaN</td>\n",
       "      <td>NaN</td>\n",
       "      <td>NaN</td>\n",
       "      <td>NaN</td>\n",
       "      <td>NaN</td>\n",
       "      <td>NaN</td>\n",
       "      <td>NaN</td>\n",
       "      <td>NaN</td>\n",
       "      <td>NaN</td>\n",
       "      <td>NaN</td>\n",
       "      <td>NaN</td>\n",
       "      <td>NaN</td>\n",
       "      <td>2.0</td>\n",
       "      <td>S</td>\n",
       "      <td>BIG SUR</td>\n",
       "      <td>10.0</td>\n",
       "      <td>S</td>\n",
       "      <td>BIG SUR</td>\n",
       "      <td>NaN</td>\n",
       "      <td>NaN</td>\n",
       "      <td>NaN</td>\n",
       "      <td>NaN</td>\n",
       "      <td>This fire known as the Big Sur fire began Oct 18 near Ventana Camp Park. Much of the fire occurr...</td>\n",
       "      <td>NaN</td>\n",
       "      <td>PDC</td>\n",
       "    </tr>\n",
       "  </tbody>\n",
       "</table>\n",
       "</div>"
      ],
      "text/plain": [
       "        Unnamed: 0  BEGIN_YEARMONTH  BEGIN_DAY  BEGIN_TIME  END_YEARMONTH  \\\n",
       "271898       39659           199610         18         700         199611   \n",
       "\n",
       "        END_DAY  END_TIME  EPISODE_ID  EVENT_ID       STATE  STATE_FIPS  YEAR  \\\n",
       "271898       10       800   2054631.0   5578493  CALIFORNIA         6.0  1996   \n",
       "\n",
       "       MONTH_NAME EVENT_TYPE CZ_TYPE  CZ_FIPS   CZ_NAME  WFO  \\\n",
       "271898    October   Wildfire       C       53  MONTEREY  MTR   \n",
       "\n",
       "           BEGIN_DATE_TIME CZ_TIMEZONE       END_DATE_TIME  INJURIES_DIRECT  \\\n",
       "271898  18-OCT-96 07:00:00         PST  10-NOV-96 08:00:00                0   \n",
       "\n",
       "        INJURIES_INDIRECT  DEATHS_DIRECT  DEATHS_INDIRECT DAMAGE_PROPERTY  \\\n",
       "271898                  0              0                0           12.3M   \n",
       "\n",
       "       DAMAGE_CROPS SOURCE  MAGNITUDE MAGNITUDE_TYPE FLOOD_CAUSE  CATEGORY  \\\n",
       "271898           0T    NaN        NaN            NaN         NaN       NaN   \n",
       "\n",
       "       TOR_F_SCALE  TOR_LENGTH  TOR_WIDTH TOR_OTHER_WFO TOR_OTHER_CZ_STATE  \\\n",
       "271898         NaN         NaN        NaN           NaN                NaN   \n",
       "\n",
       "        TOR_OTHER_CZ_FIPS TOR_OTHER_CZ_NAME  BEGIN_RANGE BEGIN_AZIMUTH  \\\n",
       "271898                NaN               NaN          2.0             S   \n",
       "\n",
       "       BEGIN_LOCATION  END_RANGE END_AZIMUTH END_LOCATION  BEGIN_LAT  \\\n",
       "271898        BIG SUR       10.0           S      BIG SUR        NaN   \n",
       "\n",
       "        BEGIN_LON  END_LAT  END_LON  \\\n",
       "271898        NaN      NaN      NaN   \n",
       "\n",
       "                                                                                          EPISODE_NARRATIVE  \\\n",
       "271898  This fire known as the Big Sur fire began Oct 18 near Ventana Camp Park. Much of the fire occurr...   \n",
       "\n",
       "       EVENT_NARRATIVE DATA_SOURCE  \n",
       "271898             NaN         PDC  "
      ]
     },
     "execution_count": 95,
     "metadata": {},
     "output_type": "execute_result"
    }
   ],
   "source": [
    "#Holy crap, a T.  What does that mean? Trillion\n",
    "\n",
    "msk1=df_det['DAMAGE_CROPS'].str.contains('T', na=False).values\n",
    "\n",
    "df_det.loc[msk1]"
   ]
  },
  {
   "cell_type": "code",
   "execution_count": null,
   "metadata": {
    "collapsed": true
   },
   "outputs": [],
   "source": [
    "Hmm.  0T =0.  Ugh.  "
   ]
  },
  {
   "cell_type": "code",
   "execution_count": 90,
   "metadata": {
    "autoscroll": false,
    "collapsed": true,
    "ein.tags": "worksheet-0",
    "slideshow": {
     "slide_type": "-"
    }
   },
   "outputs": [],
   "source": [
    "def change_postfix(ser):\n",
    "    \"\"\"change_postfix\n",
    "    Replaces all letter postfixes by appropriate numbers\n",
    "\n",
    "    h -> 100\n",
    "    k -> 1000\n",
    "    M ->1E6\n",
    "    B ->1E9\n",
    "    T ->1E12\n",
    "\n",
    "    Input: ser - pandas series\n",
    "    Output fixed_ser - numpy array of fixed values\n",
    "    \"\"\"\n",
    "    #get the numbers\n",
    "    num=ser.str.extract('([0-9\\.]+)',expand=False).astype(float)\n",
    "    #get the letters\n",
    "    mul = np.ones(num.shape)\n",
    "    #['K' 'M' nan 'B' 'h' 'H'] [nan 'K' 'M' 'k' 'T' 'B']    \n",
    "    mul[ser.str.contains('[hH]',na=False)]=100\n",
    "    mul[ser.str.contains('[kK]',na=False)]=1000\n",
    "    mul[ser.str.contains('[M]',na=False)]=1E6\n",
    "    mul[ser.str.contains('[B]',na=False)]=1E9\n",
    "    mul[ser.str.contains('[T]',na=False)]=1E12\n",
    "    num_out=(num*mul)\n",
    "    return num_out"
   ]
  },
  {
   "cell_type": "code",
   "execution_count": 91,
   "metadata": {
    "autoscroll": false,
    "collapsed": true,
    "ein.tags": "worksheet-0",
    "slideshow": {
     "slide_type": "-"
    }
   },
   "outputs": [],
   "source": [
    "dmg_crops=change_postfix(df_det['DAMAGE_CROPS'])\n",
    "dmg_prop=change_postfix(df_det['DAMAGE_PROPERTY'])"
   ]
  },
  {
   "cell_type": "code",
   "execution_count": 129,
   "metadata": {
    "collapsed": true
   },
   "outputs": [],
   "source": [
    "df_det_trim1['DAMAGE_CROPS']=dmg_crops\n",
    "df_det_trim1['DAMAGE_PROPERTY']=dmg_prop"
   ]
  },
  {
   "cell_type": "markdown",
   "metadata": {},
   "source": [
    "## Plotting Histograms of Damage, Injuries and Deaths\n",
    "\n",
    "Currently doing this for the whole dataframe, but could imagine doing this by storm type."
   ]
  },
  {
   "cell_type": "code",
   "execution_count": 98,
   "metadata": {
    "autoscroll": false,
    "ein.tags": "worksheet-0",
    "slideshow": {
     "slide_type": "-"
    }
   },
   "outputs": [
    {
     "data": {
      "image/png": "[encoded data removed]",
      "text/plain": [
       "<matplotlib.figure.Figure at 0x7f63ae39ac50>"
      ]
     },
     "metadata": {},
     "output_type": "display_data"
    }
   ],
   "source": [
    "def plot_log_log_histograms(df,name_list):\n",
    "\n",
    "    plt.figure(figsize=(10,10))\n",
    "    ncol=2\n",
    "    nrow=np.ceil(len(name_list)/ncol)\n",
    "    for i in range(len(name_list)):\n",
    "        plt.subplot(nrow,ncol,i+1)\n",
    "        name=name_list[i]\n",
    "        msk=df[name]>0\n",
    "        plt.hist(np.log10(df.loc[msk,name]),log=True)\n",
    "        plt.xlabel('log10( {} )'.format(name))\n",
    "\n",
    "    plt.show()\n",
    "\n",
    "name_list=['DAMAGE_CROPS','DAMAGE_PROPERTY','INJURIES_DIRECT', 'INJURIES_INDIRECT', 'DEATHS_DIRECT', 'DEATHS_INDIRECT']\n",
    "plot_log_log_histograms(df_det_trim1,name_list)"
   ]
  },
  {
   "cell_type": "code",
   "execution_count": 132,
   "metadata": {
    "collapsed": true
   },
   "outputs": [],
   "source": [
    "trim1_col_order=['BEGIN_DATE_TIME','YEAR', 'MONTH_NAME','BEGIN_DAY', 'BEGIN_TIME', 'EPISODE_ID', 'EVENT_ID', 'STATE',\n",
    "       'STATE_FIPS', 'EVENT_TYPE', 'CZ_TYPE', 'CZ_FIPS',\n",
    "       'CZ_NAME', 'CZ_TIMEZONE', 'INJURIES_DIRECT',\n",
    "       'INJURIES_INDIRECT', 'DEATHS_DIRECT', 'DEATHS_INDIRECT',\n",
    "       'DAMAGE_PROPERTY', 'DAMAGE_CROPS', 'SOURCE', 'MAGNITUDE',\n",
    "       'MAGNITUDE_TYPE', 'FLOOD_CAUSE', 'TOR_F_SCALE', 'TOR_LENGTH',\n",
    "       'TOR_WIDTH', 'BEGIN_LAT', 'BEGIN_LON', 'EPISODE_NARRATIVE',\n",
    "       'EVENT_NARRATIVE', 'DATA_SOURCE']"
   ]
  },
  {
   "cell_type": "code",
   "execution_count": 133,
   "metadata": {
    "autoscroll": false,
    "collapsed": true,
    "ein.tags": "worksheet-0",
    "slideshow": {
     "slide_type": "-"
    }
   },
   "outputs": [],
   "source": [
    "#Write to compressed csv.\n",
    "#for name in ['fatalities','details','locations']:\n",
    "    #test_dict[name].to_csv('joint_data/'+name+'.csv.gz',compression='gzip',index=False)\n",
    "\n",
    "df_det_trim1[trim1_col_order].to_csv('joint_data/detail_trim1.csv.gz',compression='gzip',index=False)"
   ]
  },
  {
   "cell_type": "markdown",
   "metadata": {},
   "source": [
    "Let's try to reduce that file even further.  (Those gains were fairly modest from 230MB to 180MB.)  \n",
    "\n",
    "The goal is a small data file that everyone can play with.  Dropping narratives will save the most space, and we lose some complexity by losing tornado/flood/magnitude data.  Also lose county information, and sourcing.  \n",
    "\n"
   ]
  },
  {
   "cell_type": "code",
   "execution_count": 134,
   "metadata": {},
   "outputs": [],
   "source": [
    "trim2_col_order=['BEGIN_DATE_TIME','YEAR', 'MONTH_NAME','BEGIN_DAY', 'BEGIN_TIME', 'EPISODE_ID', 'EVENT_ID', 'STATE',\n",
    "       'EVENT_TYPE','CZ_TIMEZONE', 'INJURIES_DIRECT',\n",
    "       'INJURIES_INDIRECT', 'DEATHS_DIRECT', 'DEATHS_INDIRECT',\n",
    "       'DAMAGE_PROPERTY', 'DAMAGE_CROPS','BEGIN_LAT', 'BEGIN_LON']"
   ]
  },
  {
   "cell_type": "code",
   "execution_count": 135,
   "metadata": {},
   "outputs": [
    {
     "data": {
      "text/plain": [
       "Index(['BEGIN_DATE_TIME', 'YEAR', 'MONTH_NAME', 'BEGIN_DAY', 'BEGIN_TIME',\n",
       "       'EPISODE_ID', 'EVENT_ID', 'STATE', 'EVENT_TYPE', 'CZ_TIMEZONE',\n",
       "       'INJURIES_DIRECT', 'INJURIES_INDIRECT', 'DEATHS_DIRECT',\n",
       "       'DEATHS_INDIRECT', 'DAMAGE_PROPERTY', 'DAMAGE_CROPS', 'BEGIN_LAT',\n",
       "       'BEGIN_LON'],\n",
       "      dtype='object')"
      ]
     },
     "execution_count": 135,
     "metadata": {},
     "output_type": "execute_result"
    }
   ],
   "source": [
    "df_det_trim2=df_det_trim1[trim2_col_order]\n",
    "df_det_trim2.columns"
   ]
  },
  {
   "cell_type": "code",
   "execution_count": 136,
   "metadata": {
    "collapsed": true
   },
   "outputs": [],
   "source": [
    "df_det_trim2.to_csv('joint_data/detail_trim2.csv.gz',compression='gzip',index=False)"
   ]
  },
  {
   "cell_type": "code",
   "execution_count": 137,
   "metadata": {
    "scrolled": true
   },
   "outputs": [
    {
     "data": {
      "image/png": "[encoded data removed]",
      "text/plain": [
       "<matplotlib.figure.Figure at 0x7f63d636d518>"
      ]
     },
     "metadata": {},
     "output_type": "display_data"
    }
   ],
   "source": [
    "#Plot number of events per type (over all years with uneven coverage)\n",
    "event_num=df_det_trim2.groupby('EVENT_TYPE').apply(len).sort_values()\n",
    "\n",
    "plt.figure(figsize=(10,6))\n",
    "event_num.plot(kind='bar',log=True)\n",
    "plt.show()"
   ]
  },
  {
   "cell_type": "code",
   "execution_count": 138,
   "metadata": {},
   "outputs": [
    {
     "data": {
      "image/png": "[encoded data removed]",
      "text/plain": [
       "<matplotlib.figure.Figure at 0x7f63ae51c080>"
      ]
     },
     "metadata": {},
     "output_type": "display_data"
    }
   ],
   "source": [
    "#Plot number of events per year\n",
    "df_det_trim2.groupby('YEAR').apply(len).plot()\n",
    "plt.show()"
   ]
  },
  {
   "cell_type": "markdown",
   "metadata": {},
   "source": [
    "The \"trim\\_more\" dataframe still has some cleaning to be done, like useless tags, small rare events.  Also the coverage over time also varies as the NWS tracks more things.  "
   ]
  },
  {
   "cell_type": "markdown",
   "metadata": {},
   "source": [
    "# An even smaller data set\n",
    "\n",
    "Lets try to trim this further.  I'll reduce the times to post1996, and only keep a random subset of rows.  "
   ]
  },
  {
   "cell_type": "code",
   "execution_count": 63,
   "metadata": {
    "collapsed": true
   },
   "outputs": [],
   "source": [
    "#df_det_trim2=pd.read_csv('joint_data/detail_trim2.csv.gz')"
   ]
  },
  {
   "cell_type": "code",
   "execution_count": 139,
   "metadata": {
    "collapsed": true
   },
   "outputs": [],
   "source": [
    "df_msk1=df_det_trim2['YEAR']>1995\n",
    "\n",
    "#first reduce coverage from 1996 to present.\n",
    "df_det_trim3=df_det_trim2[df_msk1]"
   ]
  },
  {
   "cell_type": "code",
   "execution_count": 140,
   "metadata": {},
   "outputs": [
    {
     "name": "stdout",
     "output_type": "stream",
     "text": [
      "61977\n"
     ]
    }
   ],
   "source": [
    "#select a random subset of row indices\n",
    "rand_seed=232\n",
    "np.random.seed(rand_seed)\n",
    "df_len=np.sum(df_msk1)\n",
    "len_sub=int(df_len/20)\n",
    "rand_ind=np.random.choice(np.arange(df_len),size=len_sub,replace=False)\n",
    "\n",
    "#also only include data after\n",
    "print(len_sub)"
   ]
  },
  {
   "cell_type": "code",
   "execution_count": 141,
   "metadata": {
    "collapsed": true
   },
   "outputs": [],
   "source": [
    "df_det_trim3=df_det_trim3.iloc[rand_ind]"
   ]
  },
  {
   "cell_type": "code",
   "execution_count": 143,
   "metadata": {},
   "outputs": [
    {
     "data": {
      "text/plain": [
       "0"
      ]
     },
     "execution_count": 143,
     "metadata": {},
     "output_type": "execute_result"
    }
   ],
   "source": [
    "msk1=(df_det_trim3['YEAR']==2005) & (df_det_trim3['MONTH_NAME']=='August') & (df_det_trim3['STATE']=='Louisiana')\n",
    "np.sum(msk1)"
   ]
  },
  {
   "cell_type": "code",
   "execution_count": 142,
   "metadata": {
    "collapsed": true
   },
   "outputs": [],
   "source": [
    "df_det_trim3.to_csv('joint_data/detail_trim3.csv.gz',compression='gzip',index=False)"
   ]
  },
  {
   "cell_type": "code",
   "execution_count": 144,
   "metadata": {},
   "outputs": [
    {
     "name": "stdout",
     "output_type": "stream",
     "text": [
      "total 430M\n",
      "-rw-rw-r-- 1 jonathan jonathan 205M Apr  9 16:57 \u001b[0m\u001b[01;31mdetails.csv.gz\u001b[0m\n",
      "-rw-rw-r-- 1 jonathan jonathan 176M Apr 12 18:11 \u001b[01;31mdetail_trim1.csv.gz\u001b[0m\n",
      "-rw-rw-r-- 1 jonathan jonathan  24M Apr 12 18:13 \u001b[01;31mdetail_trim2.csv.gz\u001b[0m\n",
      "-rw-rw-r-- 1 jonathan jonathan 1.8M Apr 12 18:15 \u001b[01;31mdetail_trim3.csv.gz\u001b[0m\n",
      "-rw-rw-r-- 1 jonathan jonathan 223K Apr  9 17:03 \u001b[01;31mfatalities.csv.gz\u001b[0m\n",
      "-rw-rw-r-- 1 jonathan jonathan  24M Apr  9 16:52 \u001b[01;31mlocations.csv.gz\u001b[0m\n",
      "-rw-rw-r-- 1 jonathan jonathan  24K Apr 10 19:35 Storm-Data-Export-Format.docx\n"
     ]
    }
   ],
   "source": [
    "ls -lh joint_data"
   ]
  },
  {
   "cell_type": "code",
   "execution_count": 145,
   "metadata": {},
   "outputs": [
    {
     "data": {
      "image/png": "[encoded data removed]",
      "text/plain": [
       "<matplotlib.figure.Figure at 0x7f63d63e7c88>"
      ]
     },
     "metadata": {},
     "output_type": "display_data"
    }
   ],
   "source": [
    "name_list=['DAMAGE_CROPS','DAMAGE_PROPERTY','INJURIES_DIRECT', 'INJURIES_INDIRECT', 'DEATHS_DIRECT', 'DEATHS_INDIRECT']\n",
    "plot_log_log_histograms(df_det_trim3,name_list)"
   ]
  },
  {
   "cell_type": "code",
   "execution_count": 126,
   "metadata": {},
   "outputs": [
    {
     "data": {
      "image/png": "[encoded data removed]",
      "text/plain": [
       "<matplotlib.figure.Figure at 0x7f63d643bf60>"
      ]
     },
     "metadata": {},
     "output_type": "display_data"
    }
   ],
   "source": [
    "df_det_trim_mostest.groupby('YEAR').apply(len).plot()\n",
    "plt.show()"
   ]
  },
  {
   "cell_type": "code",
   "execution_count": null,
   "metadata": {
    "collapsed": true
   },
   "outputs": [],
   "source": []
  }
 ],
 "metadata": {
  "kernelspec": {
   "display_name": "Python 3",
   "language": "python",
   "name": "python3"
  },
  "language_info": {
   "codemirror_mode": {
    "name": "ipython",
    "version": 3
   },
   "file_extension": ".py",
   "mimetype": "text/x-python",
   "name": "python",
   "nbconvert_exporter": "python",
   "pygments_lexer": "ipython3",
   "version": "3.6.3"
  },
  "name": "clean_data.ipynb"
 },
 "nbformat": 4,
 "nbformat_minor": 2
}
